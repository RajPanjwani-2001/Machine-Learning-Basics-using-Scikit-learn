{
  "nbformat": 4,
  "nbformat_minor": 0,
  "metadata": {
    "colab": {
      "name": "PolynomialRegression.ipynb",
      "provenance": [],
      "collapsed_sections": []
    },
    "kernelspec": {
      "name": "python3",
      "display_name": "Python 3"
    },
    "language_info": {
      "name": "python"
    }
  },
  "cells": [
    {
      "cell_type": "code",
      "source": [
        "import pandas as pd\n",
        "import matplotlib.pyplot as plt\n",
        "from sklearn.linear_model import LinearRegression\n",
        "import numpy as np"
      ],
      "metadata": {
        "id": "rdweG3EtPFV6"
      },
      "execution_count": 4,
      "outputs": []
    },
    {
      "cell_type": "code",
      "execution_count": 5,
      "metadata": {
        "id": "AIQLBZqCM9Ok"
      },
      "outputs": [],
      "source": [
        "x=np.array([-3.29215704,0.79952837,-0.93621395,-4.7226796,-3.60267397,4.93183364,-0.85026525,2.45407162,2.30965656,0.76820449,1.56786929,-2.36282052,-0.28311318,1.63497495,0.6684103,0.99897702,-2.48223722,2.61547479,1.0607969,4.56228722])\n",
        "y=np.array([-53.46841187,-1.26255958,-3.50619264,-107.22320039,-49.13195018,8.90122353,-5.46624176,-5.76263165,-0.60058568,1.2226779,-3.95663744,-21.98989452,-6.11812275,-10.46843964,-4.11955719,-3.02941914,-21.76152272,-1.51295226,-4.75491157,6.50723268])"
      ]
    },
    {
      "cell_type": "code",
      "source": [
        ""
      ],
      "metadata": {
        "id": "clcTQY5SQ6LS"
      },
      "execution_count": 12,
      "outputs": []
    },
    {
      "cell_type": "code",
      "source": [
        "x = x.reshape(-1,1)\n",
        "model = LinearRegression()\n",
        "model.fit(x,y)"
      ],
      "metadata": {
        "colab": {
          "base_uri": "https://localhost:8080/"
        },
        "id": "QjmCx85fPWxO",
        "outputId": "720d4453-fa6e-4dc8-c848-fa08c81e5c15"
      },
      "execution_count": 6,
      "outputs": [
        {
          "output_type": "execute_result",
          "data": {
            "text/plain": [
              "LinearRegression()"
            ]
          },
          "metadata": {},
          "execution_count": 6
        }
      ]
    },
    {
      "cell_type": "code",
      "source": [
        "y_pred = model.predict(x)\n",
        "plt.scatter(x,y,s=10)\n",
        "plt.plot(x,y_pred,color='r')"
      ],
      "metadata": {
        "colab": {
          "base_uri": "https://localhost:8080/",
          "height": 283
        },
        "id": "mJs7xFSHPi2v",
        "outputId": "a8b250a9-623e-4659-9f50-489580912caa"
      },
      "execution_count": 11,
      "outputs": [
        {
          "output_type": "execute_result",
          "data": {
            "text/plain": [
              "[<matplotlib.lines.Line2D at 0x7fdb71907550>]"
            ]
          },
          "metadata": {},
          "execution_count": 11
        },
        {
          "output_type": "display_data",
          "data": {
            "image/png": "[encoded data removed]",
            "text/plain": [
              "<Figure size 432x288 with 1 Axes>"
            ]
          },
          "metadata": {
            "needs_background": "light"
          }
        }
      ]
    },
    {
      "cell_type": "code",
      "source": [
        "from sklearn.metrics import mean_squared_error,r2_score\n",
        "print('RMSE: ',mean_squared_error(y,y_pred,squared = False))\n",
        "print('r2_score', r2_score(y,y_pred))"
      ],
      "metadata": {
        "colab": {
          "base_uri": "https://localhost:8080/"
        },
        "id": "0nlMmozcPwbD",
        "outputId": "2b7dfb74-208f-4f1e-c479-d155411bb03c"
      },
      "execution_count": 16,
      "outputs": [
        {
          "output_type": "stream",
          "name": "stdout",
          "text": [
            "RMSE:  15.908242498616145\n",
            "r2_score 0.6386750056343062\n"
          ]
        }
      ]
    },
    {
      "cell_type": "code",
      "source": [
        "from sklearn.preprocessing import PolynomialFeatures\n",
        "poly_feat = PolynomialFeatures(degree=2)\n",
        "x_poly = poly_feat.fit_transform(x)\n",
        "lr = LinearRegression()\n",
        "lr.fit(x_poly,y)\n",
        "y_pred = lr.predict(x_poly)\n",
        "print('RMSE: ',mean_squared_error(y,y_pred,squared = False))\n",
        "print('r2_score', r2_score(y,y_pred))"
      ],
      "metadata": {
        "colab": {
          "base_uri": "https://localhost:8080/"
        },
        "id": "CbJrF1OvRk4k",
        "outputId": "ed166cce-9d7b-4b77-905b-88e547a8a1db"
      },
      "execution_count": 19,
      "outputs": [
        {
          "output_type": "stream",
          "name": "stdout",
          "text": [
            "RMSE:  10.120437465510204\n",
            "r2_score 0.8537647166859132\n"
          ]
        }
      ]
    },
    {
      "cell_type": "code",
      "source": [
        "sorted_x_y = sorted(zip(x,y_pred))\n",
        "x,y_poly_pred = zip(*sorted_x_y)\n",
        "plt.scatter(x,y_poly_pred,s=10)\n",
        "plt.plot(x,y_poly_pred,color='r')"
      ],
      "metadata": {
        "colab": {
          "base_uri": "https://localhost:8080/",
          "height": 283
        },
        "id": "LfbU_BLSTnGs",
        "outputId": "6cbb394e-ad55-4397-df50-8f0382265d0e"
      },
      "execution_count": 28,
      "outputs": [
        {
          "output_type": "execute_result",
          "data": {
            "text/plain": [
              "[<matplotlib.lines.Line2D at 0x7fdb6f6c5f10>]"
            ]
          },
          "metadata": {},
          "execution_count": 28
        },
        {
          "output_type": "display_data",
          "data": {
            "image/png": "[encoded data removed]",
            "text/plain": [
              "<Figure size 432x288 with 1 Axes>"
            ]
          },
          "metadata": {
            "needs_background": "light"
          }
        }
      ]
    },
    {
      "cell_type": "code",
      "source": [
        ""
      ],
      "metadata": {
        "id": "R9Y5RNM6U7-N"
      },
      "execution_count": null,
      "outputs": []
    }
  ]
}